{
 "cells": [
  {
   "attachments": {},
   "cell_type": "markdown",
   "metadata": {},
   "source": [
    "The Jupyter Notebook root path (See \"Notebook File Root\" in settings) has been set to the workspace folder.\n",
    "In this case - Masters_6mic_analysis"
   ]
  },
  {
   "attachments": {},
   "cell_type": "markdown",
   "metadata": {},
   "source": [
    "First, convert your .flac file to .RAW (allowing it to be processed via ODAS)"
   ]
  },
  {
   "cell_type": "code",
   "execution_count": 3,
   "metadata": {},
   "outputs": [
    {
     "name": "stdout",
     "output_type": "stream",
     "text": [
      "Conversion complete\n"
     ]
    }
   ],
   "source": [
    "from jinja2 import Environment, FileSystemLoader\n",
    "# Jinja allows us to easily fill-out custom text files (e.g., our config file)\n",
    "import os\n",
    "import sox\n",
    "\n",
    "# Specify which file you want to process...\n",
    "# file_path = \"data/IC1/13-05-23/RPiID-000000004e8ff25b/2023-04-18/04-17-09_dur=1200secs.flac\"\n",
    "file_path = \"data/SpecificTests/OverlappingBirds_Silwood/6Channels.raw\"\n",
    "folder_path = file_path.split(\".\")[0]\n",
    "\n",
    "# Setup a new folder for the processed data\n",
    "if not os.path.exists(folder_path):\n",
    "    os.makedirs(folder_path)\n",
    "\n",
    "# CONVERT TO RAW------------------------------------------------------------------------\n",
    "# Input FLAC file\n",
    "input_file = file_path\n",
    "\n",
    "# Output RAW audio file\n",
    "output_file = folder_path + \"/raw_6_chan.raw\"\n",
    "\n",
    "# Create a Sox object\n",
    "tfm = sox.Transformer()\n",
    "\n",
    "tfm.set_input_format(rate=16000, channels=6, bits=32, encoding=\"signed-integer\")\n",
    "\n",
    "tfm.set_output_format(rate=16000, channels=6, bits=32, encoding=\"signed-integer\")\n",
    "\n",
    "# Convert the FLAC file to RAW audio format\n",
    "tfm.build(input_file, output_file)\n",
    "\n",
    "# Print a message when the conversion is done\n",
    "print(\"Conversion complete\")"
   ]
  },
  {
   "attachments": {},
   "cell_type": "markdown",
   "metadata": {},
   "source": [
    "Then, use Jinja to create a new cfg file for that RAW audio segment"
   ]
  },
  {
   "cell_type": "code",
   "execution_count": 4,
   "metadata": {},
   "outputs": [],
   "source": [
    "# CREATE NEW .cfg FILE------------------------------------------------------------------\n",
    "# Create a Jinja2 environment with the file system loader\n",
    "config_path = \"src/configs\"\n",
    "env = Environment(loader=FileSystemLoader(config_path))\n",
    "\n",
    "# Load the template from disk\n",
    "template = env.get_template(\"6mic_post_analysis_template.cfg\")\n",
    "\n",
    "# Setup the paths\n",
    "raw_input_path = output_file\n",
    "\n",
    "# Render the template with some data\n",
    "result = template.render(input_path=raw_input_path, folder_path=folder_path)\n",
    "\n",
    "# # Print the result\n",
    "# print(result)\n",
    "\n",
    "# Save the rendered config to file\n",
    "config_path = folder_path + \"/config.cfg\"\n",
    "with open(config_path, \"w\") as f:\n",
    "    f.write(result)"
   ]
  },
  {
   "attachments": {},
   "cell_type": "markdown",
   "metadata": {},
   "source": [
    "Now, run ODAS to retrieve the beamformed / postfiltered audio\n",
    "\n",
    "**NOTE: There is no Python package for ODAS - it must be run from the command line. Thus, we can use 'subprocess.call' to control this from our Py script"
   ]
  },
  {
   "cell_type": "code",
   "execution_count": 11,
   "metadata": {},
   "outputs": [
    {
     "name": "stdout",
     "output_type": "stream",
     "text": [
      "Running ODAS\n",
      "ODAS processing complete\n"
     ]
    }
   ],
   "source": [
    "import subprocess\n",
    "# Allows us to call terminal commands from Python\n",
    "\n",
    "run_odas_cmd = \"../../odas/build/bin/odaslive -c \" + config_path\n",
    "\n",
    "# print(subprocess.call(\"ls\"))\n",
    "# print(run_odas_cmd)\n",
    "\n",
    "print(\"Running ODAS\")\n",
    "subprocess.call(run_odas_cmd, shell=True)       # Python will wait for execution to complete before continuing\n",
    "# Note: shell=True is important for searching relative file paths\n",
    "print(\"ODAS processing complete\")\n"
   ]
  },
  {
   "attachments": {},
   "cell_type": "markdown",
   "metadata": {},
   "source": [
    "We then need to convert each channel (of sep and pf) to individual MP3 files, for BirdNET to process"
   ]
  },
  {
   "cell_type": "code",
   "execution_count": 12,
   "metadata": {},
   "outputs": [],
   "source": [
    "# RAW input files...\n",
    "sep_input_file = folder_path + \"/sep.raw\"\n",
    "pf_input_file = folder_path + \"/pf.raw\"\n",
    "\n",
    "for chan_num in range(1, 5):\n",
    "\n",
    "    # Extract invidiual channels...\n",
    "    tfm = sox.Transformer()\n",
    "    remix_dict = {1: [chan_num]}    # Chan 1 of new file (output) will have channel chan_num (from input) - other channels are empty\n",
    "    tfm.remix(remix_dict)           # Extract the correct channel\n",
    "\n",
    "    # Output MP3 audio files...\n",
    "    sep_output_file = folder_path + f\"/sep_chan{str(chan_num)}.mp3\"\n",
    "    pf_output_file = folder_path + f\"/pf_chan{str(chan_num)}.mp3\"\n",
    "\n",
    "    # 4 channels - 1 for each beamformed direction\n",
    "    tfm.set_input_format(rate=16000, channels=4, bits=32, encoding=\"signed-integer\")   \n",
    "\n",
    "    tfm.set_output_format(rate=16000, channels=1, bits=32, encoding=\"signed-integer\")\n",
    "\n",
    "    # Convert the RAW audio files\n",
    "    tfm.build(sep_input_file, sep_output_file)\n",
    "    tfm.build(pf_input_file, pf_output_file)\n",
    "\n",
    "print(\"Extraction complete\")"
   ]
  },
  {
   "attachments": {},
   "cell_type": "markdown",
   "metadata": {},
   "source": [
    "For comparison, we also need to extract & convert 1 channel of the original (FLAC) recording"
   ]
  },
  {
   "cell_type": "code",
   "execution_count": 13,
   "metadata": {},
   "outputs": [
    {
     "name": "stdout",
     "output_type": "stream",
     "text": [
      "Conversion complete\n"
     ]
    }
   ],
   "source": [
    "# Input FLAC file\n",
    "input_file = file_path\n",
    "\n",
    "# Output RAW audio file\n",
    "output_file = folder_path + \"/original_chan1.mp3\"\n",
    "\n",
    "# Create a Sox object\n",
    "tfm = sox.Transformer()\n",
    "\n",
    "remix_dict = {1: [1]}    # Chan 1 of new file (output) will have channel 1 from input - other channels are empty\n",
    "tfm.remix(remix_dict)    # Extract the 1st channel\n",
    "\n",
    "tfm.set_input_format(rate=16000, channels=6, bits=32, encoding=\"signed-integer\")\n",
    "\n",
    "tfm.set_output_format(rate=16000, channels=1, bits=32, encoding=\"signed-integer\")\n",
    "\n",
    "# Convert the FLAC file to RAW audio format\n",
    "tfm.build(input_file, output_file)\n",
    "\n",
    "# Print a message when the conversion is done\n",
    "print(\"Conversion complete\")"
   ]
  },
  {
   "attachments": {},
   "cell_type": "markdown",
   "metadata": {},
   "source": [
    "Now, pass through all our MP3 files into BirdNET"
   ]
  },
  {
   "cell_type": "code",
   "execution_count": 16,
   "metadata": {},
   "outputs": [
    {
     "name": "stdout",
     "output_type": "stream",
     "text": [
      "load model\n",
      "Model loaded.\n",
      "Labels loaded.\n",
      "Labels loaded.\n",
      "load_species_list_model\n",
      "Meta model loaded.\n",
      "read_audio_data\n",
      "read_audio_data: complete, read  5 chunks.\n",
      "analyze_recording data/SpecificTests/OverlappingBirds_Silwood/6Channels/sep_chan1.mp3\n",
      "[{'common_name': 'Rose-ringed Parakeet', 'scientific_name': 'Psittacula krameri', 'start_time': 6.0, 'end_time': 9.0, 'confidence': 0.35865214467048645}]\n",
      "read_audio_data\n",
      "read_audio_data: complete, read  5 chunks.\n",
      "analyze_recording data/SpecificTests/OverlappingBirds_Silwood/6Channels/pf_chan2.mp3\n",
      "[]\n",
      "read_audio_data\n",
      "read_audio_data: complete, read  5 chunks.\n",
      "analyze_recording data/SpecificTests/OverlappingBirds_Silwood/6Channels/pf_chan3.mp3\n",
      "[{'common_name': 'Spot-winged Wood-Quail', 'scientific_name': 'Odontophorus capueira', 'start_time': 3.0, 'end_time': 6.0, 'confidence': 0.830180287361145}, {'common_name': 'Spot-winged Wood-Quail', 'scientific_name': 'Odontophorus capueira', 'start_time': 9.0, 'end_time': 12.0, 'confidence': 0.8356123566627502}, {'common_name': 'Spot-winged Wood-Quail', 'scientific_name': 'Odontophorus capueira', 'start_time': 12.0, 'end_time': 15.0, 'confidence': 0.5397043228149414}]\n",
      "read_audio_data\n",
      "read_audio_data: complete, read  5 chunks.\n",
      "analyze_recording data/SpecificTests/OverlappingBirds_Silwood/6Channels/original_chan1.mp3\n",
      "[{'common_name': 'Eurasian Jackdaw', 'scientific_name': 'Corvus monedula', 'start_time': 0.0, 'end_time': 3.0, 'confidence': 0.4668276011943817}]\n",
      "read_audio_data\n",
      "read_audio_data: complete, read  5 chunks.\n",
      "analyze_recording data/SpecificTests/OverlappingBirds_Silwood/6Channels/sep_chan3.mp3\n",
      "[{'common_name': 'Rose-ringed Parakeet', 'scientific_name': 'Psittacula krameri', 'start_time': 6.0, 'end_time': 9.0, 'confidence': 0.41692477464675903}]\n",
      "read_audio_data\n",
      "read_audio_data: complete, read  5 chunks.\n",
      "analyze_recording data/SpecificTests/OverlappingBirds_Silwood/6Channels/pf_chan1.mp3\n",
      "[{'common_name': 'Rose-ringed Parakeet', 'scientific_name': 'Psittacula krameri', 'start_time': 6.0, 'end_time': 9.0, 'confidence': 0.2955508232116699}]\n",
      "read_audio_data\n",
      "read_audio_data: complete, read  5 chunks.\n",
      "analyze_recording data/SpecificTests/OverlappingBirds_Silwood/6Channels/pf_chan4.mp3\n",
      "[{'common_name': 'Northern Shrike', 'scientific_name': 'Lanius borealis', 'start_time': 0.0, 'end_time': 3.0, 'confidence': 0.25651171803474426}, {'common_name': 'Slaty Bristlefront', 'scientific_name': 'Merulaxis ater', 'start_time': 3.0, 'end_time': 6.0, 'confidence': 0.6270561218261719}, {'common_name': 'Spot-winged Wood-Quail', 'scientific_name': 'Odontophorus capueira', 'start_time': 9.0, 'end_time': 12.0, 'confidence': 0.8175202012062073}, {'common_name': 'Brown-headed Barbet', 'scientific_name': 'Psilopogon zeylanicus', 'start_time': 12.0, 'end_time': 15.0, 'confidence': 0.4420759081840515}]\n",
      "read_audio_data\n",
      "read_audio_data: complete, read  5 chunks.\n",
      "analyze_recording data/SpecificTests/OverlappingBirds_Silwood/6Channels/sep_chan4.mp3\n",
      "[{'common_name': 'Eurasian Jackdaw', 'scientific_name': 'Corvus monedula', 'start_time': 0.0, 'end_time': 3.0, 'confidence': 0.30155837535858154}, {'common_name': 'Rose-ringed Parakeet', 'scientific_name': 'Psittacula krameri', 'start_time': 6.0, 'end_time': 9.0, 'confidence': 0.4180285930633545}]\n",
      "read_audio_data\n",
      "read_audio_data: complete, read  5 chunks.\n",
      "analyze_recording data/SpecificTests/OverlappingBirds_Silwood/6Channels/sep_chan2.mp3\n",
      "[]\n"
     ]
    }
   ],
   "source": [
    "from birdnetlib import Recording\n",
    "from birdnetlib.analyzer import Analyzer\n",
    "from datetime import datetime\n",
    "\n",
    "# Load and initialize the BirdNET-Analyzer models.\n",
    "analyzer = Analyzer()\n",
    "\n",
    "def birdNet_analyse(analyzer, file_path):\n",
    "    \"\"\"Takes a file and runs through birdNET. \n",
    "    Returns the detections, as a dictionary\"\"\"\n",
    "    recording = Recording(\n",
    "        analyzer,\n",
    "        file_path,\n",
    "        # lat=51.40644012,          # Silwood Lat & Long\n",
    "        # lon=-0.63814066,\n",
    "        # lat=-5.750849,            # Manicore Lat & Long\n",
    "        # lon=-61.421894,\n",
    "        date=datetime(year=2023, month=5, day=10), # use date or week_48\n",
    "        min_conf=0.25,\n",
    "    )\n",
    "    recording.analyze()\n",
    "    return recording.detections\n",
    "\n",
    "for file_name in os.listdir(folder_path):\n",
    "    if file_name.endswith(\".mp3\"):\n",
    "        mp3_file_path = os.path.join(folder_path, file_name)\n",
    "        print(birdNet_analyse(analyzer, mp3_file_path))"
   ]
  }
 ],
 "metadata": {
  "kernelspec": {
   "display_name": "Python 3",
   "language": "python",
   "name": "python3"
  },
  "language_info": {
   "codemirror_mode": {
    "name": "ipython",
    "version": 3
   },
   "file_extension": ".py",
   "mimetype": "text/x-python",
   "name": "python",
   "nbconvert_exporter": "python",
   "pygments_lexer": "ipython3",
   "version": "3.10.6"
  },
  "orig_nbformat": 4
 },
 "nbformat": 4,
 "nbformat_minor": 2
}
