{
 "cells": [
  {
   "attachments": {},
   "cell_type": "markdown",
   "metadata": {},
   "source": [
    "First, convert your .flac file to .RAW (allowing it to be processed via ODAS)"
   ]
  },
  {
   "cell_type": "code",
   "execution_count": 3,
   "metadata": {},
   "outputs": [
    {
     "ename": "FileNotFoundError",
     "evalue": "[Errno 2] No such file or directory: ''",
     "output_type": "error",
     "traceback": [
      "\u001b[0;31m---------------------------------------------------------------------------\u001b[0m",
      "\u001b[0;31mFileNotFoundError\u001b[0m                         Traceback (most recent call last)",
      "Cell \u001b[0;32mIn[3], line 12\u001b[0m\n\u001b[1;32m     10\u001b[0m \u001b[39m# Setup a new folder for the processed data\u001b[39;00m\n\u001b[1;32m     11\u001b[0m \u001b[39mif\u001b[39;00m \u001b[39mnot\u001b[39;00m os\u001b[39m.\u001b[39mpath\u001b[39m.\u001b[39mexists(folder_path):\n\u001b[0;32m---> 12\u001b[0m     os\u001b[39m.\u001b[39;49mmakedirs(folder_path)\n\u001b[1;32m     14\u001b[0m \u001b[39m# CONVERT TO RAW------------------------------------------------------------------------\u001b[39;00m\n\u001b[1;32m     15\u001b[0m \u001b[39m# Input FLAC file\u001b[39;00m\n\u001b[1;32m     16\u001b[0m input_file \u001b[39m=\u001b[39m file_path\n",
      "File \u001b[0;32m/usr/lib/python3.10/os.py:225\u001b[0m, in \u001b[0;36mmakedirs\u001b[0;34m(name, mode, exist_ok)\u001b[0m\n\u001b[1;32m    223\u001b[0m         \u001b[39mreturn\u001b[39;00m\n\u001b[1;32m    224\u001b[0m \u001b[39mtry\u001b[39;00m:\n\u001b[0;32m--> 225\u001b[0m     mkdir(name, mode)\n\u001b[1;32m    226\u001b[0m \u001b[39mexcept\u001b[39;00m \u001b[39mOSError\u001b[39;00m:\n\u001b[1;32m    227\u001b[0m     \u001b[39m# Cannot rely on checking for EEXIST, since the operating system\u001b[39;00m\n\u001b[1;32m    228\u001b[0m     \u001b[39m# could give priority to other errors like EACCES or EROFS\u001b[39;00m\n\u001b[1;32m    229\u001b[0m     \u001b[39mif\u001b[39;00m \u001b[39mnot\u001b[39;00m exist_ok \u001b[39mor\u001b[39;00m \u001b[39mnot\u001b[39;00m path\u001b[39m.\u001b[39misdir(name):\n",
      "\u001b[0;31mFileNotFoundError\u001b[0m: [Errno 2] No such file or directory: ''"
     ]
    }
   ],
   "source": [
    "from jinja2 import Environment, FileSystemLoader\n",
    "# Jinja allows us to easily fill-out custom text files (e.g., our config file)\n",
    "import os\n",
    "import sox\n",
    "\n",
    "# Specify which file you want to process...\n",
    "root_path = \"../../\"\n",
    "file_path = \"data/IC1/13-05-23/RPiID-000000004e8ff25b/2023-04-18/04-17-09_dur=1200secs.flac\"\n",
    "folder_path = file_path.split(\".\")[0]\n",
    "\n",
    "folder_path = root_path + folder_path\n",
    "file_path = root_path + file_path\n",
    "\n",
    "# Setup a new folder for the processed data\n",
    "if not os.path.exists(folder_path):\n",
    "    os.makedirs(folder_path)\n",
    "\n",
    "# CONVERT TO RAW------------------------------------------------------------------------\n",
    "# Input FLAC file\n",
    "input_file = file_path\n",
    "\n",
    "# Output RAW audio file\n",
    "output_file = folder_path + \"/raw_6_chan.raw\"\n",
    "\n",
    "# Create a Sox object\n",
    "tfm = sox.Transformer()\n",
    "\n",
    "tfm.set_input_format(rate=16000, channels=6, bits=32, encoding=\"signed-integer\")\n",
    "\n",
    "tfm.set_output_format(rate=16000, channels=6, bits=32, encoding=\"signed-integer\")\n",
    "\n",
    "# Convert the FLAC file to RAW audio format\n",
    "tfm.build(input_file, output_file)\n",
    "\n",
    "# Print a message when the conversion is done\n",
    "print(\"Conversion complete!\")"
   ]
  },
  {
   "attachments": {},
   "cell_type": "markdown",
   "metadata": {},
   "source": [
    "Then, use Jinja to create a new cfg file for that RAW audio segment"
   ]
  },
  {
   "cell_type": "code",
   "execution_count": null,
   "metadata": {},
   "outputs": [],
   "source": [
    "# CREATE NEW .cfg FILE------------------------------------------------------------------\n",
    "# Create a Jinja2 environment with the file system loader\n",
    "env = Environment(loader=FileSystemLoader(\"src/configs\"))\n",
    "\n",
    "# Load the template from disk\n",
    "template = env.get_template(\"6mic_post_analysis_template.cfg\")\n",
    "\n",
    "# Setup the paths\n",
    "raw_input_path = output_file\n",
    "\n",
    "# Render the template with some data\n",
    "result = template.render(input_path=raw_input_path, folder_path=folder_path)\n",
    "\n",
    "# Print the result\n",
    "print(result)"
   ]
  }
 ],
 "metadata": {
  "kernelspec": {
   "display_name": "Python 3",
   "language": "python",
   "name": "python3"
  },
  "language_info": {
   "codemirror_mode": {
    "name": "ipython",
    "version": 3
   },
   "file_extension": ".py",
   "mimetype": "text/x-python",
   "name": "python",
   "nbconvert_exporter": "python",
   "pygments_lexer": "ipython3",
   "version": "3.10.6"
  },
  "orig_nbformat": 4
 },
 "nbformat": 4,
 "nbformat_minor": 2
}
