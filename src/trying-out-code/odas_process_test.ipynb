{
 "cells": [
  {
   "attachments": {},
   "cell_type": "markdown",
   "metadata": {},
   "source": [
    "The Jupyter Notebook root path (See \"Notebook File Root\" in settings) has been set to the workspace folder.\n",
    "In this case - Masters_6mic_analysis"
   ]
  },
  {
   "attachments": {},
   "cell_type": "markdown",
   "metadata": {},
   "source": [
    "First, convert your .flac file to .RAW (allowing it to be processed via ODAS)"
   ]
  },
  {
   "cell_type": "code",
   "execution_count": 11,
   "metadata": {},
   "outputs": [
    {
     "name": "stdout",
     "output_type": "stream",
     "text": [
      "Conversion complete\n"
     ]
    }
   ],
   "source": [
    "from jinja2 import Environment, FileSystemLoader\n",
    "# Jinja allows us to easily fill-out custom text files (e.g., our config file)\n",
    "import os\n",
    "import sox\n",
    "\n",
    "# Specify which file you want to process...\n",
    "# file_path = \"data/IC1/13-05-23/RPiID-000000004e8ff25b/2023-04-18/04-17-09_dur=1200secs.flac\"\n",
    "file_path = \"data/SpecificTests/OverlappingBirds_Silwood/6Channels.raw\"\n",
    "folder_path = file_path.split(\".\")[0]\n",
    "\n",
    "# Setup a new folder for the processed data\n",
    "if not os.path.exists(folder_path):\n",
    "    os.makedirs(folder_path)\n",
    "\n",
    "# CONVERT TO RAW------------------------------------------------------------------------\n",
    "# Input FLAC file\n",
    "input_file = file_path\n",
    "\n",
    "# Output RAW audio file\n",
    "output_file = folder_path + \"/raw_6_chan.raw\"\n",
    "\n",
    "# Create a Sox object\n",
    "tfm = sox.Transformer()\n",
    "\n",
    "tfm.set_input_format(rate=16000, channels=6, bits=32, encoding=\"signed-integer\")\n",
    "\n",
    "tfm.set_output_format(rate=16000, channels=6, bits=32, encoding=\"signed-integer\")\n",
    "\n",
    "# Convert the FLAC file to RAW audio format\n",
    "tfm.build(input_file, output_file)\n",
    "\n",
    "# Print a message when the conversion is done\n",
    "print(\"Conversion complete\")"
   ]
  },
  {
   "attachments": {},
   "cell_type": "markdown",
   "metadata": {},
   "source": [
    "Then, use Jinja to create a new cfg file for that RAW audio segment"
   ]
  },
  {
   "cell_type": "code",
   "execution_count": 5,
   "metadata": {},
   "outputs": [],
   "source": [
    "# CREATE NEW .cfg FILE------------------------------------------------------------------\n",
    "# Create a Jinja2 environment with the file system loader\n",
    "config_path = \"src/configs\"\n",
    "env = Environment(loader=FileSystemLoader(config_path))\n",
    "\n",
    "# Load the template from disk\n",
    "template = env.get_template(\"6mic_post_analysis_template.cfg\")\n",
    "\n",
    "# Setup the paths\n",
    "raw_input_path = output_file\n",
    "\n",
    "# Render the template with some data\n",
    "result = template.render(input_path=raw_input_path, folder_path=folder_path)\n",
    "\n",
    "# # Print the result\n",
    "# print(result)\n",
    "\n",
    "# Save the rendered config to file\n",
    "config_path = folder_path + \"/config.cfg\"\n",
    "with open(config_path, \"w\") as f:\n",
    "    f.write(result)"
   ]
  },
  {
   "attachments": {},
   "cell_type": "markdown",
   "metadata": {},
   "source": [
    "Now, run ODAS to retrieve the beamformed / postfiltered audio\n",
    "\n",
    "**NOTE: There is no Python package for ODAS - it must be run from the command line. Thus, we can use 'subprocess.call' to control this from our Py script"
   ]
  },
  {
   "cell_type": "code",
   "execution_count": 10,
   "metadata": {},
   "outputs": [
    {
     "name": "stdout",
     "output_type": "stream",
     "text": [
      "Running ODAS\n",
      "ODAS processing complete\n"
     ]
    }
   ],
   "source": [
    "import subprocess\n",
    "# Allows us to call terminal commands from Python\n",
    "\n",
    "run_odas_cmd = \"../../odas/build/bin/odaslive -c \" + config_path\n",
    "\n",
    "# print(subprocess.call(\"ls\"))\n",
    "# print(run_odas_cmd)\n",
    "\n",
    "print(\"Running ODAS\")\n",
    "subprocess.call(run_odas_cmd, shell=True)       # Python will wait for execution to complete before continuing\n",
    "# Note: shell=True is important for searching relative file paths\n",
    "print(\"ODAS processing complete\")\n"
   ]
  },
  {
   "attachments": {},
   "cell_type": "markdown",
   "metadata": {},
   "source": [
    "We then need to convert each channel (of sep and pf) to individual MP3 files, for BirdNET to process"
   ]
  },
  {
   "cell_type": "code",
   "execution_count": 9,
   "metadata": {},
   "outputs": [],
   "source": [
    "# RAW input files...\n",
    "sep_input_file = folder_path + \"/sep.raw\"\n",
    "pf_input_file = folder_path + \"/pf.raw\"\n",
    "\n",
    "for chan_num in range(1, 5):\n",
    "\n",
    "    # Output MP3 audio files...\n",
    "    sep_output_file = folder_path + f\"/sep_chan{str(chan_num)}.mp3\"\n",
    "    pf_output_file = folder_path + f\"/pf_chan{str(chan_num)}.mp3\"\n",
    "\n",
    "    # Create a Sox object\n",
    "    tfm = sox.Transformer()\n",
    "\n",
    "    # 4 channels - 1 for each beamformed direction\n",
    "    tfm.set_input_format(rate=16000, channels=4, bits=32, encoding=\"signed-integer\")    \n",
    "\n",
    "    tfm.set_output_format(rate=16000, channels=1, bits=32, encoding=\"signed-integer\")\n",
    "\n",
    "    tfm.channels(chan_num)  # Set channel number to extract\n",
    "\n",
    "    # Convert the RAW audio files\n",
    "    tfm.build(sep_input_file, sep_output_file)\n",
    "    tfm.build(pf_input_file, pf_output_file)"
   ]
  }
 ],
 "metadata": {
  "kernelspec": {
   "display_name": "Python 3",
   "language": "python",
   "name": "python3"
  },
  "language_info": {
   "codemirror_mode": {
    "name": "ipython",
    "version": 3
   },
   "file_extension": ".py",
   "mimetype": "text/x-python",
   "name": "python",
   "nbconvert_exporter": "python",
   "pygments_lexer": "ipython3",
   "version": "3.10.6"
  },
  "orig_nbformat": 4
 },
 "nbformat": 4,
 "nbformat_minor": 2
}
