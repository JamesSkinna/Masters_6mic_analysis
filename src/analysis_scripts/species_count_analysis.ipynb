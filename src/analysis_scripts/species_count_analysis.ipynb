{
 "cells": [
  {
   "attachments": {},
   "cell_type": "markdown",
   "metadata": {},
   "source": [
    "Lorenzo stated that (for the bar_compare_count plots - species count plots) \"...you need to find a way to deal with the TS numbers as...they skew everything else making the differences between mono and beamformer much less visible. Again, you could just report the % of increase in number of detected occurrences for each species, and then average them across all...I'd work with % though, and not absolute counts, specifically because of the TS being so high\"\n",
    "\n",
    "So, we will look to make these changes..."
   ]
  },
  {
   "attachments": {},
   "cell_type": "markdown",
   "metadata": {},
   "source": [
    "First, let's only plot certain species (ones around the average count)"
   ]
  },
  {
   "cell_type": "code",
   "execution_count": 15,
   "metadata": {},
   "outputs": [],
   "source": [
    "import json\n",
    "import matplotlib.pyplot as plt\n",
    "import numpy as np\n",
    "\n",
    "# New colours\n",
    "mono_col = '#18D12B'\n",
    "bf_col = '#008CFF'\n",
    "\n",
    "def get_initials(species_name):\n",
    "    \"\"\"Extract the intials from a species' full name\"\"\"\n",
    "    # Split the name into individual words\n",
    "    words = species_name.split()\n",
    "\n",
    "    # Extract the first character of each word\n",
    "    initials = [word[0].upper() for word in words]\n",
    "\n",
    "    # Return the initials as a string\n",
    "    return ''.join(initials)\n",
    "\n",
    "\n",
    "def setup_new_plot(xlabel, ylabel, title):\n",
    "    \"\"\"Initialises a new matplotlib plot, with desired parameters\"\"\"\n",
    "    plt.figure(figsize=(18, 12))\n",
    "    plt.xlabel(xlabel, fontsize=20, labelpad=20)\n",
    "    plt.ylabel(ylabel, fontsize=20, labelpad=20)\n",
    "    plt.tick_params(axis=\"both\", labelsize=16)\n",
    "\n",
    "def read_results_from_file(file_path):\n",
    "    \"\"\"Read the BirdNET detections from a file\"\"\"\n",
    "\n",
    "    with open(file_path, 'r') as file:\n",
    "        results_dict = json.load(file)\n",
    "\n",
    "    return results_dict\n",
    "\n",
    "\n",
    "def get_unique_species(arr):\n",
    "    \"\"\"Create a list of all unique species (from either channel)\"\"\"\n",
    "    unique_species = []\n",
    "    for dictionary in arr:            # Iterate through all dictionaries\n",
    "        unique_species.extend(list(dictionary.keys()))        # Add all species to a new list\n",
    "    unique_species = list(set(unique_species))          # Remove duplicates from new list\n",
    "\n",
    "    return unique_species\n",
    "\n",
    "\n",
    "def barchart_count_comparison(mono_data, bf_data, location):\n",
    "    \"\"\"Creates a boxplot to compare species counts of mono-channel vs beamformed\n",
    "    --> Split into groups (1 group per species) - for side-by-side comparison\"\"\"\n",
    "\n",
    "    title = f\"Species Counts (Min 0.7 Confidence, Min 20 Detections) - Mono-channel vs Beamformed Recordings - {location}\"\n",
    "    setup_new_plot(\"Species Initials\", \"Species Count\", title)\n",
    "\n",
    "    count_data_list = [mono_data, bf_data]\n",
    "    barchart_count_mono = []\n",
    "    barchart_count_bf = []\n",
    "    barchart_labels = []\n",
    "\n",
    "    species_list = get_unique_species(count_data_list)\n",
    "\n",
    "    # Extract count data to a list...\n",
    "    for species in species_list:\n",
    "        barchart_labels.append(get_initials(species))\n",
    "\n",
    "        if species in mono_data:\n",
    "            barchart_count_mono.append(mono_data[species])\n",
    "        else:\n",
    "            barchart_count_mono.append(0)\n",
    "\n",
    "        if species in bf_data:\n",
    "            barchart_count_bf.append(bf_data[species])\n",
    "        else:\n",
    "            barchart_count_bf.append(0)\n",
    "\n",
    "\n",
    "    # ADJUSTMENT----------------------------------------------------------------------------------------\n",
    "    # mean_count = np.mean(barchart_count_mono)\n",
    "    # mean_mod = 4\n",
    "    # max_count_for_chart = mean_count*mean_mod          # Only plot the species with counts within 0.5* or 2* the mean (to avoid skewing)\n",
    "    # min_count_for_chart = mean_count/mean_mod\n",
    "\n",
    "\n",
    "    modded_bf = []\n",
    "    modded_mono = []\n",
    "    modded_labels = []\n",
    "\n",
    "    for i, count in enumerate(barchart_count_mono):\n",
    "        if count > 30:                  # Sufficient sample size, remove large outliers\n",
    "            # if count < max_count_for_chart and count > min_count_for_chart:\n",
    "            modded_bf.append(barchart_count_bf[i])\n",
    "            modded_mono.append(barchart_count_mono[i])\n",
    "            modded_labels.append(barchart_labels[i])\n",
    "    # ADJUSTMENT----------------------------------------------------------------------------------------\n",
    "\n",
    "\n",
    "    if barchart_labels:        # If we have some data to plot (otherwise, = [], which acts as False)\n",
    "        # Plot the data - unfortunately, for side-by-side groups, we have to lay it out manually...\n",
    "        plt.barh(np.array(range(len(modded_mono)))*2.0-0.3, modded_mono, height=0.6, color=mono_col, alpha=0.7)\n",
    "        plt.barh(np.array(range(len(modded_bf)))*2.0+0.3, modded_bf, height=0.6, color=bf_col, alpha=0.7)\n",
    "\n",
    "        # draw temporary red and blue lines and use them to create a legend\n",
    "        plt.plot([], c=mono_col, label='Monophonic', alpha=0.7)\n",
    "        plt.plot([], c=bf_col, label='Beamformed', alpha=0.7)\n",
    "        leg = plt.legend(fontsize=20)\n",
    "\n",
    "        leg.get_lines()[0].set_linewidth(5)\n",
    "        leg.get_lines()[1].set_linewidth(5)\n",
    "\n",
    "        plt.yticks(range(0, len(modded_labels) * 2, 2), modded_labels)\n",
    "        plt.ylim(-2, len(modded_labels)*2)\n",
    "        # plt.ylim(0.4, 1)\n",
    "        plt.tight_layout()\n",
    "\n",
    "        plt.show()"
   ]
  },
  {
   "cell_type": "code",
   "execution_count": 16,
   "metadata": {},
   "outputs": [
    {
     "data": {
      "image/png": "[encoded data removed]",
      "text/plain": [
       "<Figure size 1296x864 with 1 Axes>"
      ]
     },
     "metadata": {
      "needs_background": "light"
     },
     "output_type": "display_data"
    }
   ],
   "source": [
    "# Manicore\n",
    "file_path_manicore = \"data/processed/manicore/species_counts.json\"\n",
    "\n",
    "mono_data_manicore = read_results_from_file(file_path_manicore)[\"mono_channel\"]\n",
    "bf_data_manicore = read_results_from_file(file_path_manicore)[\"beamformed\"]\n",
    "\n",
    "# barchart_count_comparison(mono_data_manicore, bf_data_manicore, \"Manicore\")\n",
    "\n",
    "# Silwood\n",
    "file_path_silwood = \"data/processed/silwood/A1/species_counts.json\"\n",
    "\n",
    "mono_data_silwood = read_results_from_file(file_path_silwood)[\"mono_channel\"]\n",
    "bf_data_silwood = read_results_from_file(file_path_silwood)[\"beamformed\"]\n",
    "\n",
    "# barchart_count_comparison(mono_data_silwood, bf_data_silwood, \"Silwood\")\n",
    "\n",
    "# Merged together\n",
    "mono_data = {**mono_data_manicore, **mono_data_silwood}\n",
    "bf_data = {**bf_data_manicore, **bf_data_silwood}\n",
    "\n",
    "barchart_count_comparison(mono_data, bf_data, \"\")"
   ]
  },
  {
   "attachments": {},
   "cell_type": "markdown",
   "metadata": {},
   "source": [
    "Now, let's calculate the % increase for each species, and take an average\n"
   ]
  },
  {
   "cell_type": "code",
   "execution_count": 3,
   "metadata": {},
   "outputs": [
    {
     "name": "stdout",
     "output_type": "stream",
     "text": [
      "Mean Percentage Increase per Species: 122.0%\n"
     ]
    }
   ],
   "source": [
    "count_data_list = [mono_data, bf_data]\n",
    "mono_list = []\n",
    "bf_list = []\n",
    "\n",
    "species_list = get_unique_species(count_data_list)\n",
    "\n",
    "# Extract count data to a list - only those with species detected by both mono & bf\n",
    "for species in species_list:\n",
    "    if (species in mono_data) and (species in bf_data):\n",
    "        if mono_data[species] > 20:                     # Only when we had sufficient detections (20 should be large enough sample size)\n",
    "            mono_list.append(mono_data[species])\n",
    "            bf_list.append(bf_data[species])\n",
    "\n",
    "# Convert lists to NumPy arrays\n",
    "mono_arr = np.array(mono_list)\n",
    "bf_arr = np.array(bf_list)\n",
    "\n",
    "# Calculate percentage increase\n",
    "percentage_increase = ((bf_arr - mono_arr) / mono_arr) * 100\n",
    "\n",
    "mean_perc_inc = round(np.mean(percentage_increase), 0)\n",
    "\n",
    "# Print the percentage increase\n",
    "print(f\"Mean Percentage Increase per Species: {mean_perc_inc}%\")"
   ]
  }
 ],
 "metadata": {
  "kernelspec": {
   "display_name": "base",
   "language": "python",
   "name": "python3"
  },
  "language_info": {
   "codemirror_mode": {
    "name": "ipython",
    "version": 3
   },
   "file_extension": ".py",
   "mimetype": "text/x-python",
   "name": "python",
   "nbconvert_exporter": "python",
   "pygments_lexer": "ipython3",
   "version": "3.8.5"
  },
  "orig_nbformat": 4
 },
 "nbformat": 4,
 "nbformat_minor": 2
}
